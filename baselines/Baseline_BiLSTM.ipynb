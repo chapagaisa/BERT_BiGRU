{
  "cells": [
    {
      "cell_type": "code",
      "execution_count": 1,
      "id": "d6e12935",
      "metadata": {
        "colab": {
          "base_uri": "https://localhost:8080/"
        },
        "id": "d6e12935",
        "outputId": "f6ce4a99-044d-4bcd-b07d-a00d42e29614"
      },
      "outputs": [
        {
          "output_type": "stream",
          "name": "stdout",
          "text": [
            "Looking in indexes: https://pypi.org/simple, https://us-python.pkg.dev/colab-wheels/public/simple/\n",
            "Requirement already satisfied: torchtext==0.6 in /usr/local/lib/python3.10/dist-packages (0.6.0)\n",
            "Requirement already satisfied: tqdm in /usr/local/lib/python3.10/dist-packages (from torchtext==0.6) (4.65.0)\n",
            "Requirement already satisfied: requests in /usr/local/lib/python3.10/dist-packages (from torchtext==0.6) (2.27.1)\n",
            "Requirement already satisfied: torch in /usr/local/lib/python3.10/dist-packages (from torchtext==0.6) (2.0.1+cu118)\n",
            "Requirement already satisfied: numpy in /usr/local/lib/python3.10/dist-packages (from torchtext==0.6) (1.22.4)\n",
            "Requirement already satisfied: six in /usr/local/lib/python3.10/dist-packages (from torchtext==0.6) (1.16.0)\n",
            "Requirement already satisfied: sentencepiece in /usr/local/lib/python3.10/dist-packages (from torchtext==0.6) (0.1.99)\n",
            "Requirement already satisfied: urllib3<1.27,>=1.21.1 in /usr/local/lib/python3.10/dist-packages (from requests->torchtext==0.6) (1.26.15)\n",
            "Requirement already satisfied: certifi>=2017.4.17 in /usr/local/lib/python3.10/dist-packages (from requests->torchtext==0.6) (2022.12.7)\n",
            "Requirement already satisfied: charset-normalizer~=2.0.0 in /usr/local/lib/python3.10/dist-packages (from requests->torchtext==0.6) (2.0.12)\n",
            "Requirement already satisfied: idna<4,>=2.5 in /usr/local/lib/python3.10/dist-packages (from requests->torchtext==0.6) (3.4)\n",
            "Requirement already satisfied: filelock in /usr/local/lib/python3.10/dist-packages (from torch->torchtext==0.6) (3.12.0)\n",
            "Requirement already satisfied: typing-extensions in /usr/local/lib/python3.10/dist-packages (from torch->torchtext==0.6) (4.5.0)\n",
            "Requirement already satisfied: sympy in /usr/local/lib/python3.10/dist-packages (from torch->torchtext==0.6) (1.11.1)\n",
            "Requirement already satisfied: networkx in /usr/local/lib/python3.10/dist-packages (from torch->torchtext==0.6) (3.1)\n",
            "Requirement already satisfied: jinja2 in /usr/local/lib/python3.10/dist-packages (from torch->torchtext==0.6) (3.1.2)\n",
            "Requirement already satisfied: triton==2.0.0 in /usr/local/lib/python3.10/dist-packages (from torch->torchtext==0.6) (2.0.0)\n",
            "Requirement already satisfied: cmake in /usr/local/lib/python3.10/dist-packages (from triton==2.0.0->torch->torchtext==0.6) (3.25.2)\n",
            "Requirement already satisfied: lit in /usr/local/lib/python3.10/dist-packages (from triton==2.0.0->torch->torchtext==0.6) (16.0.5)\n",
            "Requirement already satisfied: MarkupSafe>=2.0 in /usr/local/lib/python3.10/dist-packages (from jinja2->torch->torchtext==0.6) (2.1.2)\n",
            "Requirement already satisfied: mpmath>=0.19 in /usr/local/lib/python3.10/dist-packages (from sympy->torch->torchtext==0.6) (1.3.0)\n"
          ]
        }
      ],
      "source": [
        "!pip install torchtext==0.6"
      ]
    },
    {
      "cell_type": "code",
      "source": [
        "from torchtext.data import Field, TabularDataset, BucketIterator,LabelField\n",
        "from tqdm.notebook import tqdm\n",
        "from torchtext.vocab import GloVe\n",
        "\n",
        "# Essential libraries\n",
        "import matplotlib.pyplot as plt\n",
        "import pandas as pd\n",
        "import torch\n",
        "from sklearn.model_selection import train_test_split\n",
        "print(torch.__version__)"
      ],
      "metadata": {
        "colab": {
          "base_uri": "https://localhost:8080/"
        },
        "id": "CT9emd8inicV",
        "outputId": "7e312467-d81c-4b2d-8269-ce2c75e1077c"
      },
      "id": "CT9emd8inicV",
      "execution_count": 2,
      "outputs": [
        {
          "output_type": "stream",
          "name": "stdout",
          "text": [
            "2.0.1+cu118\n"
          ]
        }
      ]
    },
    {
      "cell_type": "code",
      "source": [
        "device = torch.device('cuda' if torch.cuda.is_available() else 'cpu')"
      ],
      "metadata": {
        "id": "xzzOPLhxjsh3"
      },
      "id": "xzzOPLhxjsh3",
      "execution_count": 3,
      "outputs": []
    },
    {
      "cell_type": "code",
      "source": [
        "# Load the original dataset\n",
        "df = pd.read_csv('missom_coded_v1_santosh.csv')\n",
        "df = df.rename(columns={'label_minority_stress': 'label'})\n",
        "df = df[['text', 'label']]\n",
        "\n",
        "df.info()\n",
        "df.label.value_counts()"
      ],
      "metadata": {
        "colab": {
          "base_uri": "https://localhost:8080/"
        },
        "id": "TGEorkhF5tWF",
        "outputId": "2bde56f4-e93c-4688-e34c-38e47fcd43f8"
      },
      "id": "TGEorkhF5tWF",
      "execution_count": 4,
      "outputs": [
        {
          "output_type": "stream",
          "name": "stdout",
          "text": [
            "<class 'pandas.core.frame.DataFrame'>\n",
            "RangeIndex: 5789 entries, 0 to 5788\n",
            "Data columns (total 2 columns):\n",
            " #   Column  Non-Null Count  Dtype \n",
            "---  ------  --------------  ----- \n",
            " 0   text    5789 non-null   object\n",
            " 1   label   5789 non-null   int64 \n",
            "dtypes: int64(1), object(1)\n",
            "memory usage: 90.6+ KB\n"
          ]
        },
        {
          "output_type": "execute_result",
          "data": {
            "text/plain": [
              "0    4551\n",
              "1    1238\n",
              "Name: label, dtype: int64"
            ]
          },
          "metadata": {},
          "execution_count": 4
        }
      ]
    },
    {
      "cell_type": "code",
      "execution_count": 5,
      "id": "e04da5a6",
      "metadata": {
        "id": "e04da5a6"
      },
      "outputs": [],
      "source": [
        "# Split the dataset into train, test, and validation sets\n",
        "train_df, test_df = train_test_split(df, test_size=0.2, random_state=42)\n",
        "train_df, val_df = train_test_split(train_df, test_size=0.2, random_state=42)\n",
        "\n",
        "# Save the dataframes to CSV files\n",
        "train_df.to_csv('train.csv', index=False)\n",
        "test_df.to_csv('test.csv', index=False)\n",
        "val_df.to_csv('valid.csv', index=False)\n",
        "\n",
        "\n"
      ]
    },
    {
      "cell_type": "code",
      "execution_count": 6,
      "id": "641b5e90",
      "metadata": {
        "id": "641b5e90"
      },
      "outputs": [],
      "source": [
        "# SEED = 1234\n",
        "# torch.manual_seed(SEED)\n",
        "# torch.backends.cudnn.deterministic = True\n",
        "\n",
        "TEXT = Field(tokenize = 'spacy',\n",
        "                  tokenizer_language = 'en_core_web_sm',\n",
        "                  include_lengths = True, batch_first = True)\n",
        "\n",
        "LABEL = LabelField(sequential = False, use_vocab = False, batch_first = True,dtype = torch.float)"
      ]
    },
    {
      "cell_type": "code",
      "execution_count": 7,
      "id": "e275989f",
      "metadata": {
        "colab": {
          "base_uri": "https://localhost:8080/"
        },
        "id": "e275989f",
        "outputId": "ed702bd9-ad76-4d90-d46d-43a27afb5791"
      },
      "outputs": [
        {
          "output_type": "stream",
          "name": "stdout",
          "text": [
            "Number of training examples: 3704\n",
            "Number of Validation examples: 927\n",
            "Number of testing examples: 1158\n",
            "<torchtext.data.example.Example object at 0x7fa32195dd50>\n"
          ]
        }
      ],
      "source": [
        "# Load the data\n",
        "train_data,valid_data, test_data = TabularDataset.splits(\n",
        "    path= '/content/',\n",
        "    train='train.csv',\n",
        "    validation='valid.csv',\n",
        "    test='test.csv',\n",
        "    format='csv',\n",
        "    fields=[('text', TEXT), ('label', LABEL)],\n",
        "    skip_header=True\n",
        ")\n",
        "print('Number of training examples: {}'.format(len(train_data)))\n",
        "print('Number of Validation examples: {}'.format(len(valid_data)))\n",
        "print('Number of testing examples: {}'.format(len(test_data)))\n",
        "print(train_data[0])"
      ]
    },
    {
      "cell_type": "code",
      "execution_count": 8,
      "id": "5e40a49a",
      "metadata": {
        "id": "5e40a49a",
        "colab": {
          "base_uri": "https://localhost:8080/"
        },
        "outputId": "dbeeb7eb-cbc2-4e35-ea72-2ca593473dcc"
      },
      "outputs": [
        {
          "output_type": "stream",
          "name": "stderr",
          "text": [
            ".vector_cache/glove.6B.zip: 862MB [02:40, 5.38MB/s]                           \n",
            "100%|█████████▉| 399999/400000 [00:18<00:00, 22152.04it/s]\n"
          ]
        }
      ],
      "source": [
        "# TEXT.build_vocab(train_data, min_freq = 3)\n",
        "\n",
        "MAX_VOCAB_SIZE = 25000\n",
        "\n",
        "TEXT.build_vocab(train_data, \n",
        "                 max_size = MAX_VOCAB_SIZE, \n",
        "                 vectors = \"glove.6B.100d\", \n",
        "                 unk_init = torch.Tensor.normal_)\n",
        "\n",
        "LABEL.build_vocab(train_data)"
      ]
    },
    {
      "cell_type": "code",
      "execution_count": 9,
      "id": "a6174953",
      "metadata": {
        "id": "a6174953"
      },
      "outputs": [],
      "source": [
        "BATCH_SIZE = 64\n",
        "\n",
        "\n",
        "\n",
        "train_iterator, valid_iterator, test_iterator = BucketIterator.splits(\n",
        "    (train_data, valid_data, test_data), \n",
        "    batch_size = BATCH_SIZE,\n",
        "    device = device,\n",
        "    sort_key=lambda x: len(x.text),\n",
        "    sort_within_batch = True\n",
        "    )"
      ]
    },
    {
      "cell_type": "code",
      "execution_count": 10,
      "id": "5117c5a3",
      "metadata": {
        "id": "5117c5a3"
      },
      "outputs": [],
      "source": [
        "import torch.nn as nn\n",
        "from torch.nn.utils.rnn import pack_padded_sequence, pad_packed_sequence\n",
        "\n",
        "class LSTM(nn.Module):\n",
        "\n",
        "    def __init__(self, dimension = 128):\n",
        "        super(LSTM, self).__init__()\n",
        "\n",
        "        self.embedding = nn.Embedding(len(TEXT.vocab), 300)\n",
        "        self.dimension = dimension\n",
        "        self.lstm = nn.LSTM(input_size = 300,\n",
        "                            hidden_size = dimension,\n",
        "                            num_layers = 1,\n",
        "                            batch_first = True,\n",
        "                            bidirectional = True)\n",
        "        self.drop = nn.Dropout(p = 0.5)\n",
        "\n",
        "        self.fc = nn.Linear(2*dimension, 1)\n",
        "\n",
        "    def forward(self, text, text_len):\n",
        "\n",
        "        text_emb = self.embedding(text)\n",
        "        # print(text_len)\n",
        "        text_len = text_len.view(-1)\n",
        "        # print(text_len)\n",
        "\n",
        "        packed_input = pack_padded_sequence(text_emb, text_len, batch_first = True, enforce_sorted = False)\n",
        "        packed_output, _ = self.lstm(packed_input)\n",
        "        output, _ = pad_packed_sequence(packed_output, batch_first = True)\n",
        "        \n",
        "        indices = torch.arange(0, text.size(0))  # Create an index tensor for valid elements\n",
        "        out_forward = output[indices, text_len - 1, :self.dimension] \n",
        "        out_reverse = output[:, 0, self.dimension:]\n",
        "        out_reduced = torch.cat((out_forward, out_reverse), 1)\n",
        "        text_fea = self.drop(out_reduced)\n",
        "\n",
        "        text_fea = self.fc(text_fea)\n",
        "        text_fea = torch.squeeze(text_fea, 1)\n",
        "        text_out = torch.sigmoid(text_fea)\n",
        "\n",
        "        return text_out"
      ]
    },
    {
      "cell_type": "code",
      "execution_count": 11,
      "id": "c9850b27",
      "metadata": {
        "id": "c9850b27"
      },
      "outputs": [],
      "source": [
        "# Save and load functions\n",
        "def save_checkpoint(save_path, model, optimizer, valid_loss):\n",
        "\n",
        "    if save_path == None:\n",
        "        return\n",
        "    \n",
        "    state_dict = {'model_state_dict': model.state_dict(),\n",
        "                  'optimizer_state_dict': optimizer.state_dict(),\n",
        "                  'valid_loss': valid_loss}\n",
        "    \n",
        "    torch.save(state_dict, save_path)\n",
        "    print(f'Model saved to ==> {save_path}')\n",
        "\n",
        "\n",
        "def load_checkpoint(load_path, model, optimizer):\n",
        "\n",
        "    if load_path==None:\n",
        "        return\n",
        "    \n",
        "    state_dict = torch.load(load_path, map_location=device)\n",
        "    print(f'Model loaded from <== {load_path}')\n",
        "    \n",
        "    model.load_state_dict(state_dict['model_state_dict'])\n",
        "    optimizer.load_state_dict(state_dict['optimizer_state_dict'])\n",
        "    \n",
        "    return state_dict['valid_loss']\n",
        "\n",
        "\n",
        "def save_metrics(save_path, train_loss_list, valid_loss_list, global_steps_list):\n",
        "\n",
        "    if save_path == None:\n",
        "        return\n",
        "    \n",
        "    state_dict = {'train_loss_list': train_loss_list,\n",
        "                  'valid_loss_list': valid_loss_list,\n",
        "                  'global_steps_list': global_steps_list}\n",
        "    \n",
        "    torch.save(state_dict, save_path)\n",
        "    print(f'Model saved to ==> {save_path}')\n",
        "\n",
        "\n",
        "def load_metrics(load_path):\n",
        "\n",
        "    if load_path==None:\n",
        "        return\n",
        "    \n",
        "    state_dict = torch.load(load_path, map_location=device)\n",
        "    print(f'Model loaded from <== {load_path}')\n",
        "    \n",
        "    return state_dict['train_loss_list'], state_dict['valid_loss_list'], state_dict['global_steps_list']\n"
      ]
    },
    {
      "cell_type": "code",
      "execution_count": 12,
      "id": "7e26899d",
      "metadata": {
        "id": "7e26899d"
      },
      "outputs": [],
      "source": [
        "# Evaluation\n",
        "from sklearn.metrics import accuracy_score, classification_report, confusion_matrix\n",
        "import seaborn as sns\n",
        "\n",
        "# Training function\n",
        "def train(model,\n",
        "          optimizer,\n",
        "          criterion = nn.BCELoss(),\n",
        "          train_loader = train_iterator,\n",
        "          valid_loader = valid_iterator,\n",
        "          num_epochs = 5,\n",
        "          eval_every = len(train_iterator) // 2,\n",
        "          file_path = \"/content/\",\n",
        "          best_valid_loss = float(\"Inf\")):\n",
        "    \n",
        "    # initialize running values\n",
        "    running_loss = 0.0\n",
        "    valid_running_loss = 0.0\n",
        "    global_step = 0\n",
        "    train_loss_list = []\n",
        "    valid_loss_list = []\n",
        "    global_steps_list = []\n",
        "    \n",
        "    # initialize predicted values\n",
        "    y_pred = []\n",
        "    y_true = []\n",
        "\n",
        "    # training loop\n",
        "    model.train()\n",
        "    for epoch in range(num_epochs):\n",
        "        for batch in train_loader: \n",
        "\n",
        "            optimizer.zero_grad()\n",
        "            text, text_len = batch.text\n",
        "            labels = batch.label\n",
        "\n",
        "            # labels = labels.to(device)\n",
        "            # text = text.to(device)\n",
        "            text_len = text_len.to('cpu')\n",
        "            output = model(text, text_len)\n",
        "            \n",
        "            threshold = 0.5\n",
        "            output_1 = (output > threshold).int()\n",
        "            y_pred.extend(output_1.tolist())\n",
        "            y_true.extend(labels.tolist())\n",
        "\n",
        "            loss = criterion(output, labels)\n",
        "            optimizer.zero_grad()\n",
        "            loss.backward()\n",
        "            optimizer.step()\n",
        "\n",
        "            # update running values\n",
        "            running_loss += loss.item()\n",
        "            global_step += 1\n",
        "\n",
        "            # evaluation step\n",
        "            if global_step % eval_every == 0:\n",
        "                model.eval()\n",
        "                with torch.no_grad():                    \n",
        "                  # validation loop\n",
        "                  for batch in valid_loader:\n",
        "                      text, text_len = batch.text\n",
        "                      labels = batch.label\n",
        "\n",
        "                      # labels = labels.to(device)\n",
        "                      # text = text.to(device)\n",
        "                      text_len = text_len.to('cpu')\n",
        "                      output = model(text, text_len)\n",
        "\n",
        "                      loss = criterion(output, labels)\n",
        "                      valid_running_loss += loss.item()\n",
        "\n",
        "                # evaluation\n",
        "                average_train_loss = running_loss / eval_every\n",
        "                average_valid_loss = valid_running_loss / len(valid_loader)\n",
        "                train_loss_list.append(average_train_loss)\n",
        "                valid_loss_list.append(average_valid_loss)\n",
        "                global_steps_list.append(global_step)\n",
        "\n",
        "                # resetting running values\n",
        "                running_loss = 0.0                \n",
        "                valid_running_loss = 0.0\n",
        "                model.train()\n",
        "\n",
        "                # print progress\n",
        "                print('Epoch [{}/{}], Step [{}/{}], Train Loss: {:.4f}, Valid Loss: {:.4f}'\n",
        "                      .format(epoch+1, num_epochs, global_step, num_epochs*len(train_loader),\n",
        "                              average_train_loss, average_valid_loss))\n",
        "                \n",
        "                # checkpoint\n",
        "                if best_valid_loss > average_valid_loss:\n",
        "                    best_valid_loss = average_valid_loss\n",
        "                    save_checkpoint(file_path + '/model.pt', model, optimizer, best_valid_loss)\n",
        "                    save_metrics(file_path + '/metrics.pt', train_loss_list, valid_loss_list, global_steps_list)\n",
        "    \n",
        "    save_metrics(file_path + '/metrics.pt', train_loss_list, valid_loss_list, global_steps_list)\n",
        "    print('Classification Report:')\n",
        "    print(classification_report(y_true, y_pred, labels=[1,0], digits=4))\n",
        "    print('Finished Training!')\n"
      ]
    },
    {
      "cell_type": "code",
      "execution_count": 13,
      "id": "2bb0ebb4",
      "metadata": {
        "colab": {
          "base_uri": "https://localhost:8080/"
        },
        "id": "2bb0ebb4",
        "outputId": "eea5cbce-bb41-46a5-dc54-fe5f2c50e066"
      },
      "outputs": [
        {
          "output_type": "stream",
          "name": "stdout",
          "text": [
            "Epoch [1/10], Step [29/580], Train Loss: 0.5539, Valid Loss: 0.5348\n",
            "Model saved to ==> /content//model.pt\n",
            "Model saved to ==> /content//metrics.pt\n",
            "Epoch [1/10], Step [58/580], Train Loss: 0.5450, Valid Loss: 0.5200\n",
            "Model saved to ==> /content//model.pt\n",
            "Model saved to ==> /content//metrics.pt\n",
            "Epoch [2/10], Step [87/580], Train Loss: 0.5245, Valid Loss: 0.5147\n",
            "Model saved to ==> /content//model.pt\n",
            "Model saved to ==> /content//metrics.pt\n",
            "Epoch [2/10], Step [116/580], Train Loss: 0.4528, Valid Loss: 0.5123\n",
            "Model saved to ==> /content//model.pt\n",
            "Model saved to ==> /content//metrics.pt\n",
            "Epoch [3/10], Step [145/580], Train Loss: 0.4367, Valid Loss: 0.5104\n",
            "Model saved to ==> /content//model.pt\n",
            "Model saved to ==> /content//metrics.pt\n",
            "Epoch [3/10], Step [174/580], Train Loss: 0.4409, Valid Loss: 0.5263\n",
            "Epoch [4/10], Step [203/580], Train Loss: 0.3239, Valid Loss: 0.5775\n",
            "Epoch [4/10], Step [232/580], Train Loss: 0.3943, Valid Loss: 0.5360\n",
            "Epoch [5/10], Step [261/580], Train Loss: 0.2740, Valid Loss: 0.5902\n",
            "Epoch [5/10], Step [290/580], Train Loss: 0.2345, Valid Loss: 0.6259\n",
            "Epoch [6/10], Step [319/580], Train Loss: 0.1380, Valid Loss: 0.7494\n",
            "Epoch [6/10], Step [348/580], Train Loss: 0.1331, Valid Loss: 0.7633\n",
            "Epoch [7/10], Step [377/580], Train Loss: 0.0581, Valid Loss: 0.8493\n",
            "Epoch [7/10], Step [406/580], Train Loss: 0.0584, Valid Loss: 0.9106\n",
            "Epoch [8/10], Step [435/580], Train Loss: 0.0236, Valid Loss: 1.0056\n",
            "Epoch [8/10], Step [464/580], Train Loss: 0.0301, Valid Loss: 1.0800\n",
            "Epoch [9/10], Step [493/580], Train Loss: 0.0118, Valid Loss: 1.1453\n",
            "Epoch [9/10], Step [522/580], Train Loss: 0.0113, Valid Loss: 1.3123\n",
            "Epoch [10/10], Step [551/580], Train Loss: 0.0061, Valid Loss: 1.3130\n",
            "Epoch [10/10], Step [580/580], Train Loss: 0.0060, Valid Loss: 1.3144\n",
            "Model saved to ==> /content//metrics.pt\n",
            "Classification Report:\n",
            "              precision    recall  f1-score   support\n",
            "\n",
            "           1     0.9348    0.5895    0.7230      7900\n",
            "           0     0.8988    0.9888    0.9417     29140\n",
            "\n",
            "    accuracy                         0.9037     37040\n",
            "   macro avg     0.9168    0.7892    0.8324     37040\n",
            "weighted avg     0.9065    0.9037    0.8951     37040\n",
            "\n",
            "Finished Training!\n"
          ]
        }
      ],
      "source": [
        "# Training\n",
        "import torch.optim as optim\n",
        "# Call the model\n",
        "model = LSTM().to(device)\n",
        "\n",
        "# Create an Adam optimizer\n",
        "optimizer = optim.Adam(model.parameters(), lr = 0.001)\n",
        "\n",
        "# Train the model\n",
        "train(model = model, optimizer = optimizer, num_epochs = 10)"
      ]
    },
    {
      "cell_type": "markdown",
      "source": [
        "Code from Cory"
      ],
      "metadata": {
        "id": "TAfi0aygjYac"
      },
      "id": "TAfi0aygjYac"
    },
    {
      "cell_type": "code",
      "execution_count": 14,
      "id": "7bf7b458",
      "metadata": {
        "id": "7bf7b458",
        "colab": {
          "base_uri": "https://localhost:8080/",
          "height": 473
        },
        "outputId": "5c9d8321-dac4-4c79-fbe1-c99a9fe1a65d"
      },
      "outputs": [
        {
          "output_type": "stream",
          "name": "stdout",
          "text": [
            "Model loaded from <== /content//metrics.pt\n"
          ]
        },
        {
          "output_type": "display_data",
          "data": {
            "text/plain": [
              "<Figure size 640x480 with 1 Axes>"
            ],
            "image/png": "[encoded data removed]"
          },
          "metadata": {}
        }
      ],
      "source": [
        "# VISUALIZE LOSS\n",
        "import warnings\n",
        "warnings.filterwarnings('ignore') \n",
        "\n",
        "# Create the plot\n",
        "train_loss_list, valid_loss_list, global_steps_list = load_metrics('/content/' + '/metrics.pt')\n",
        "plt.plot(global_steps_list, train_loss_list, label = 'Training', linewidth = 3)\n",
        "plt.plot(global_steps_list, valid_loss_list, label = 'Validation', linewidth = 3)\n",
        "plt.xlabel('Global Steps')\n",
        "plt.ylabel('Loss')\n",
        "plt.legend()\n",
        "plt.ylim([0, 3])\n",
        "plt.rcParams[\"figure.figsize\"] = (10, 8)\n",
        "plt.rcParams.update({'font.size': 16})\n",
        "plt.rcParams[\"font.family\"] = \"Times New Roman\"\n",
        "\n",
        "# Save and print the plot\n",
        "plt.savefig('/content/' + 'lstm_loss_2.png')"
      ]
    },
    {
      "cell_type": "code",
      "source": [
        "###Evaluate in Test data\n",
        "# initialize predicted values\n",
        "y_pred = []\n",
        "y_true = []\n",
        "model.eval()\n",
        "criterion = nn.BCELoss()\n",
        "valid_running_loss = 0.0\n",
        "# validation loop\n",
        "for batch in test_iterator:\n",
        "    text, text_len = batch.text\n",
        "    labels = batch.label\n",
        "\n",
        "    # labels = labels.to(device)\n",
        "    # text = text.to(device)\n",
        "    text_len = text_len.to('cpu')\n",
        "    output = model(text, text_len)\n",
        "\n",
        "    threshold = 0.5\n",
        "    output_1 = (output > threshold).int()\n",
        "    y_pred.extend(output_1.tolist())\n",
        "    y_true.extend(labels.tolist())\n",
        "\n",
        "    loss = criterion(output, labels)\n",
        "    valid_running_loss += loss.item()\n",
        "\n",
        "print('Classification Report:')\n",
        "print(classification_report(y_true, y_pred, labels=[1,0], digits=4))"
      ],
      "metadata": {
        "colab": {
          "base_uri": "https://localhost:8080/"
        },
        "id": "FkVVErbz_nqa",
        "outputId": "8891a5b2-07ab-4a5d-e296-aca0abeaf4a4"
      },
      "id": "FkVVErbz_nqa",
      "execution_count": 15,
      "outputs": [
        {
          "output_type": "stream",
          "name": "stdout",
          "text": [
            "Classification Report:\n",
            "              precision    recall  f1-score   support\n",
            "\n",
            "           1     0.3636    0.2072    0.2640       251\n",
            "           0     0.8039    0.8997    0.8491       907\n",
            "\n",
            "    accuracy                         0.7496      1158\n",
            "   macro avg     0.5838    0.5534    0.5565      1158\n",
            "weighted avg     0.7085    0.7496    0.7223      1158\n",
            "\n"
          ]
        }
      ]
    },
    {
      "cell_type": "code",
      "execution_count": 15,
      "id": "5f2ed451",
      "metadata": {
        "id": "5f2ed451"
      },
      "outputs": [],
      "source": []
    }
  ],
  "metadata": {
    "kernelspec": {
      "display_name": "Python 3 (ipykernel)",
      "language": "python",
      "name": "python3"
    },
    "language_info": {
      "codemirror_mode": {
        "name": "ipython",
        "version": 3
      },
      "file_extension": ".py",
      "mimetype": "text/x-python",
      "name": "python",
      "nbconvert_exporter": "python",
      "pygments_lexer": "ipython3",
      "version": "3.9.12"
    },
    "colab": {
      "provenance": [],
      "gpuType": "T4"
    },
    "accelerator": "GPU",
    "gpuClass": "standard"
  },
  "nbformat": 4,
  "nbformat_minor": 5
}